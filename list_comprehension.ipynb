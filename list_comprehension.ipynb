{
  "nbformat": 4,
  "nbformat_minor": 0,
  "metadata": {
    "colab": {
      "provenance": []
    },
    "kernelspec": {
      "name": "python3",
      "display_name": "Python 3"
    },
    "language_info": {
      "name": "python"
    }
  },
  "cells": [
    {
      "cell_type": "code",
      "execution_count": 4,
      "metadata": {
        "colab": {
          "base_uri": "https://localhost:8080/"
        },
        "id": "AL_d-nd2ikjr",
        "outputId": "63365596-a5ad-404f-8df8-f6b183b5ee80"
      },
      "outputs": [
        {
          "output_type": "stream",
          "name": "stdout",
          "text": [
            "['a', 'ad']\n"
          ]
        }
      ],
      "source": [
        "letters=[\"a\",\"b\",\"c\",\"ad\"]\n",
        "newlist=[]\n",
        "for x in letters:\n",
        "  if \"a\" in x:\n",
        "    newlist.append(x)\n",
        "print(newlist)"
      ]
    },
    {
      "cell_type": "code",
      "source": [
        "newlist=[x for x in letters if \"a\" in x]\n",
        "newlist"
      ],
      "metadata": {
        "colab": {
          "base_uri": "https://localhost:8080/"
        },
        "id": "KgRX53DfjAKl",
        "outputId": "a7611558-ec4f-4902-e74c-1889c77d5027"
      },
      "execution_count": 6,
      "outputs": [
        {
          "output_type": "execute_result",
          "data": {
            "text/plain": [
              "['a', 'ad']"
            ]
          },
          "metadata": {},
          "execution_count": 6
        }
      ]
    },
    {
      "cell_type": "markdown",
      "source": [
        "Only accept items that are not \"a\""
      ],
      "metadata": {
        "id": "gO9Tn-KgjqwY"
      }
    },
    {
      "cell_type": "code",
      "source": [
        "newlist=[x for x in letters if x!=\"a\"]\n",
        "newlist"
      ],
      "metadata": {
        "colab": {
          "base_uri": "https://localhost:8080/"
        },
        "id": "CJPOtJyCjaDe",
        "outputId": "c1956190-0b20-4b84-958d-eae7831eb072"
      },
      "execution_count": 7,
      "outputs": [
        {
          "output_type": "execute_result",
          "data": {
            "text/plain": [
              "['b', 'c', 'ad']"
            ]
          },
          "metadata": {},
          "execution_count": 7
        }
      ]
    },
    {
      "cell_type": "markdown",
      "source": [
        "No if statement"
      ],
      "metadata": {
        "id": "bVHHccKkj-2w"
      }
    },
    {
      "cell_type": "code",
      "source": [
        "newlist=[x for x in letters]\n",
        "newlist"
      ],
      "metadata": {
        "colab": {
          "base_uri": "https://localhost:8080/"
        },
        "id": "aV-7DqQWj2F4",
        "outputId": "82483dba-a132-4cdb-ec66-83e22b27c3d1"
      },
      "execution_count": 8,
      "outputs": [
        {
          "output_type": "execute_result",
          "data": {
            "text/plain": [
              "['a', 'b', 'c', 'ad']"
            ]
          },
          "metadata": {},
          "execution_count": 8
        }
      ]
    },
    {
      "cell_type": "markdown",
      "source": [
        "with iterables"
      ],
      "metadata": {
        "id": "k1Ay8DGakIjO"
      }
    },
    {
      "cell_type": "code",
      "source": [
        "newlist=[x for x in range(10)]\n",
        "newlist"
      ],
      "metadata": {
        "colab": {
          "base_uri": "https://localhost:8080/"
        },
        "id": "9vC3n6MbkArA",
        "outputId": "81538a9a-1645-47b0-e850-fe9a62ed40b0"
      },
      "execution_count": 9,
      "outputs": [
        {
          "output_type": "execute_result",
          "data": {
            "text/plain": [
              "[0, 1, 2, 3, 4, 5, 6, 7, 8, 9]"
            ]
          },
          "metadata": {},
          "execution_count": 9
        }
      ]
    },
    {
      "cell_type": "markdown",
      "source": [
        "Create a list of all odd numbers between 1 and 20."
      ],
      "metadata": {
        "id": "28V5ytTlkgsc"
      }
    },
    {
      "cell_type": "code",
      "source": [
        "newlist=[x for x in range(20) if x%2!=0]\n",
        "newlist"
      ],
      "metadata": {
        "colab": {
          "base_uri": "https://localhost:8080/"
        },
        "id": "Do1WdVpLj95R",
        "outputId": "91280000-cd94-4cba-fd5c-2e1622290d02"
      },
      "execution_count": 10,
      "outputs": [
        {
          "output_type": "execute_result",
          "data": {
            "text/plain": [
              "[1, 3, 5, 7, 9, 11, 13, 15, 17, 19]"
            ]
          },
          "metadata": {},
          "execution_count": 10
        }
      ]
    },
    {
      "cell_type": "markdown",
      "source": [
        "Make a list of the lengths of words in [\"hello\", \"world\", \"python\"]"
      ],
      "metadata": {
        "id": "oRnSvi4wkwFm"
      }
    },
    {
      "cell_type": "code",
      "source": [
        "lists=[\"hello\", \"world\", \"python\"]\n",
        "newlist=[len(x) for x in lists]\n",
        "newlist"
      ],
      "metadata": {
        "colab": {
          "base_uri": "https://localhost:8080/"
        },
        "id": "njTO4_9-kZv7",
        "outputId": "79200523-92e3-4ded-a249-e164a951764f"
      },
      "execution_count": 12,
      "outputs": [
        {
          "output_type": "execute_result",
          "data": {
            "text/plain": [
              "[5, 5, 6]"
            ]
          },
          "metadata": {},
          "execution_count": 12
        }
      ]
    },
    {
      "cell_type": "markdown",
      "source": [
        "From a list of numbers, return a list of only the positive numbers"
      ],
      "metadata": {
        "id": "gT6hstvtltS5"
      }
    },
    {
      "cell_type": "code",
      "source": [
        "nlist=[1,2,-5,-9,-4,3,6,8]\n",
        "newlist=[x for x in nlist if x>0]\n",
        "newlist"
      ],
      "metadata": {
        "colab": {
          "base_uri": "https://localhost:8080/"
        },
        "id": "0c4vFa-ckrfM",
        "outputId": "4be10fed-5bd1-48d0-ca1b-15ac43bc51f3"
      },
      "execution_count": 13,
      "outputs": [
        {
          "output_type": "execute_result",
          "data": {
            "text/plain": [
              "[1, 2, 3, 6, 8]"
            ]
          },
          "metadata": {},
          "execution_count": 13
        }
      ]
    },
    {
      "cell_type": "markdown",
      "source": [
        "Flatten this nested list: [[1, 2], [3, 4], [5]] → [1, 2, 3, 4, 5]"
      ],
      "metadata": {
        "id": "aD1bdAJqn6Ii"
      }
    },
    {
      "cell_type": "code",
      "source": [
        "nested_list=[[1, 2], [3, 4], [5]]\n",
        "flat_list=[]\n",
        "for sublist in nested_list:\n",
        "  # print(sublist)\n",
        "  for item in sublist:\n",
        "    # print(item)\n",
        "    flat_list.append(item)\n",
        "flat_list"
      ],
      "metadata": {
        "colab": {
          "base_uri": "https://localhost:8080/"
        },
        "id": "lOwMY0d7lpQK",
        "outputId": "243e004e-7c0f-44f7-b3a5-9a8204fc1691"
      },
      "execution_count": 16,
      "outputs": [
        {
          "output_type": "execute_result",
          "data": {
            "text/plain": [
              "[1, 2, 3, 4, 5]"
            ]
          },
          "metadata": {},
          "execution_count": 16
        }
      ]
    },
    {
      "cell_type": "markdown",
      "source": [
        "From a sentence, return a list of all words longer than 3 characters"
      ],
      "metadata": {
        "id": "ghBKMaAioMcS"
      }
    },
    {
      "cell_type": "code",
      "source": [
        "flat_list_c=[item for sublist in nested_list for item in sublist]\n",
        "flat_list_c"
      ],
      "metadata": {
        "colab": {
          "base_uri": "https://localhost:8080/"
        },
        "id": "RRutXiQImqVF",
        "outputId": "70800898-6fac-4e80-e1a8-5e094876de00"
      },
      "execution_count": 18,
      "outputs": [
        {
          "output_type": "execute_result",
          "data": {
            "text/plain": [
              "[1, 2, 3, 4, 5]"
            ]
          },
          "metadata": {},
          "execution_count": 18
        }
      ]
    },
    {
      "cell_type": "code",
      "source": [
        "newlist=[x for x in lists if len(x)>5]\n",
        "newlist"
      ],
      "metadata": {
        "colab": {
          "base_uri": "https://localhost:8080/"
        },
        "id": "hUJdRJ-inPcf",
        "outputId": "dec51f07-03f9-4d27-b920-79646d79e712"
      },
      "execution_count": 20,
      "outputs": [
        {
          "output_type": "execute_result",
          "data": {
            "text/plain": [
              "['python']"
            ]
          },
          "metadata": {},
          "execution_count": 20
        }
      ]
    }
  ]
}